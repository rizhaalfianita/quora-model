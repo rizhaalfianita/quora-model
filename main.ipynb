{
 "cells": [
  {
   "cell_type": "code",
   "execution_count": 1,
   "metadata": {},
   "outputs": [
    {
     "data": {
      "text/html": [
       "<div>\n",
       "<style scoped>\n",
       "    .dataframe tbody tr th:only-of-type {\n",
       "        vertical-align: middle;\n",
       "    }\n",
       "\n",
       "    .dataframe tbody tr th {\n",
       "        vertical-align: top;\n",
       "    }\n",
       "\n",
       "    .dataframe thead th {\n",
       "        text-align: right;\n",
       "    }\n",
       "</style>\n",
       "<table border=\"1\" class=\"dataframe\">\n",
       "  <thead>\n",
       "    <tr style=\"text-align: right;\">\n",
       "      <th></th>\n",
       "      <th>qid</th>\n",
       "      <th>question_text</th>\n",
       "      <th>target</th>\n",
       "    </tr>\n",
       "  </thead>\n",
       "  <tbody>\n",
       "    <tr>\n",
       "      <th>0</th>\n",
       "      <td>42b9446db515fcd253a7</td>\n",
       "      <td>What is the qualification for an animator or a...</td>\n",
       "      <td>0</td>\n",
       "    </tr>\n",
       "    <tr>\n",
       "      <th>1</th>\n",
       "      <td>bdad704204f8535e313a</td>\n",
       "      <td>Do different flavoured protein shakes have dif...</td>\n",
       "      <td>0</td>\n",
       "    </tr>\n",
       "    <tr>\n",
       "      <th>2</th>\n",
       "      <td>d13a0c498bf5a9cb2bc3</td>\n",
       "      <td>How does someone keep their children when they...</td>\n",
       "      <td>0</td>\n",
       "    </tr>\n",
       "    <tr>\n",
       "      <th>3</th>\n",
       "      <td>237828efb8348c39f14b</td>\n",
       "      <td>How much time required to learn Bollywood danc...</td>\n",
       "      <td>0</td>\n",
       "    </tr>\n",
       "    <tr>\n",
       "      <th>4</th>\n",
       "      <td>3c02e808603faa6ecc20</td>\n",
       "      <td>What skills can I have to fit in formulae one?</td>\n",
       "      <td>0</td>\n",
       "    </tr>\n",
       "    <tr>\n",
       "      <th>...</th>\n",
       "      <td>...</td>\n",
       "      <td>...</td>\n",
       "      <td>...</td>\n",
       "    </tr>\n",
       "    <tr>\n",
       "      <th>3995</th>\n",
       "      <td>8e636f1fb48158100adc</td>\n",
       "      <td>In ancient China, there was nothing other than...</td>\n",
       "      <td>1</td>\n",
       "    </tr>\n",
       "    <tr>\n",
       "      <th>3996</th>\n",
       "      <td>bffed8f6e8fec61187b5</td>\n",
       "      <td>I have a 3 inch penis, can I fuck a lot's girls?</td>\n",
       "      <td>1</td>\n",
       "    </tr>\n",
       "    <tr>\n",
       "      <th>3997</th>\n",
       "      <td>324670fdf6a9ba5cc019</td>\n",
       "      <td>Are all blacks from Haiti?</td>\n",
       "      <td>1</td>\n",
       "    </tr>\n",
       "    <tr>\n",
       "      <th>3998</th>\n",
       "      <td>e74c62301253bbc32563</td>\n",
       "      <td>Why are questions demonizing Israel okay but a...</td>\n",
       "      <td>1</td>\n",
       "    </tr>\n",
       "    <tr>\n",
       "      <th>3999</th>\n",
       "      <td>19e2f3c714a93f9003c0</td>\n",
       "      <td>Who do you consider to be the most seducing Je...</td>\n",
       "      <td>1</td>\n",
       "    </tr>\n",
       "  </tbody>\n",
       "</table>\n",
       "<p>4000 rows × 3 columns</p>\n",
       "</div>"
      ],
      "text/plain": [
       "                       qid                                      question_text  \\\n",
       "0     42b9446db515fcd253a7  What is the qualification for an animator or a...   \n",
       "1     bdad704204f8535e313a  Do different flavoured protein shakes have dif...   \n",
       "2     d13a0c498bf5a9cb2bc3  How does someone keep their children when they...   \n",
       "3     237828efb8348c39f14b  How much time required to learn Bollywood danc...   \n",
       "4     3c02e808603faa6ecc20     What skills can I have to fit in formulae one?   \n",
       "...                    ...                                                ...   \n",
       "3995  8e636f1fb48158100adc  In ancient China, there was nothing other than...   \n",
       "3996  bffed8f6e8fec61187b5   I have a 3 inch penis, can I fuck a lot's girls?   \n",
       "3997  324670fdf6a9ba5cc019                         Are all blacks from Haiti?   \n",
       "3998  e74c62301253bbc32563  Why are questions demonizing Israel okay but a...   \n",
       "3999  19e2f3c714a93f9003c0  Who do you consider to be the most seducing Je...   \n",
       "\n",
       "      target  \n",
       "0          0  \n",
       "1          0  \n",
       "2          0  \n",
       "3          0  \n",
       "4          0  \n",
       "...      ...  \n",
       "3995       1  \n",
       "3996       1  \n",
       "3997       1  \n",
       "3998       1  \n",
       "3999       1  \n",
       "\n",
       "[4000 rows x 3 columns]"
      ]
     },
     "execution_count": 1,
     "metadata": {},
     "output_type": "execute_result"
    }
   ],
   "source": [
    "import pandas as pd\n",
    "\n",
    "fix_file = \"dataset/fix_data.csv\"\n",
    "fix_df = pd.read_csv(fix_file)\n",
    "fix_df"
   ]
  },
  {
   "cell_type": "code",
   "execution_count": 2,
   "metadata": {},
   "outputs": [],
   "source": [
    "from preprocessing import preprocessing_text_with_lemma\n",
    "fix_df['preprocessed_text'] = fix_df['question_text'].apply(preprocessing_text_with_lemma)"
   ]
  },
  {
   "cell_type": "code",
   "execution_count": 3,
   "metadata": {},
   "outputs": [],
   "source": [
    "X = fix_df['preprocessed_text'].apply(lambda x: ' '.join(x))\n",
    "y = fix_df['target']\n",
    "\n",
    "from TFIDFVectorizer import TFIDF\n",
    "tfidf_vectorizer = TFIDF(X)\n",
    "X_tfidf = tfidf_vectorizer.transform_tfidf(X)"
   ]
  },
  {
   "cell_type": "code",
   "execution_count": 4,
   "metadata": {},
   "outputs": [],
   "source": [
    "data = {\"Question\": X, \"Label\": y}\n",
    "\n",
    "# Add TF-IDF values to the dictionary\n",
    "for i, vocab in enumerate(tfidf_vectorizer.vocabulary):\n",
    "    vocab_val_list = [doc[i] for doc in X_tfidf]\n",
    "    data[vocab] = vocab_val_list\n",
    "\n",
    "# Create DataFrame from the dictionary\n",
    "join_df = pd.DataFrame(data)\n",
    "\n",
    "# Display the DataFrame\n",
    "sincere_df = join_df[join_df[\"Label\"] == 0]\n",
    "insincere_df = join_df[join_df[\"Label\"] == 1]"
   ]
  },
  {
   "cell_type": "code",
   "execution_count": 5,
   "metadata": {},
   "outputs": [],
   "source": [
    "sincere_df_vocab_only = sincere_df.drop(columns=['Question', 'Label'])\n",
    "sincere_vocab_means = sincere_df_vocab_only.mean()\n",
    "sincere_means_df = pd.DataFrame({'Vocab': sincere_vocab_means.index, 'TF-IDF Value': sincere_vocab_means.values})\n",
    "sorted_sincere_means_df = sincere_means_df.sort_values(by='TF-IDF Value', ascending=False, ignore_index=True)\n",
    "\n",
    "sorted_sincere_means_df.to_csv(\"tfidf_rank_sincere_final.csv\")"
   ]
  },
  {
   "cell_type": "code",
   "execution_count": 6,
   "metadata": {},
   "outputs": [],
   "source": [
    "insincere_df_vocab_only = insincere_df.drop(columns=['Question', 'Label'])\n",
    "insincere_vocab_means = insincere_df_vocab_only.mean()\n",
    "insincere_means_df = pd.DataFrame({'Vocab': insincere_vocab_means.index, 'TF-IDF Value': insincere_vocab_means.values})\n",
    "sorted_insincere_means_df = insincere_means_df.sort_values(by='TF-IDF Value', ascending=False, ignore_index=True)\n",
    "\n",
    "sorted_insincere_means_df.to_csv(\"tfidf_rank_insincere_final.csv\")"
   ]
  },
  {
   "cell_type": "code",
   "execution_count": 8,
   "metadata": {},
   "outputs": [
    {
     "name": "stdout",
     "output_type": "stream",
     "text": [
      "['i', 'me', 'my', 'myself', 'we', 'our', 'ours', 'ourselves', 'you', \"you're\", \"you've\", \"you'll\", \"you'd\", 'your', 'yours', 'yourself', 'yourselves', 'he', 'him', 'his', 'himself', 'she', \"she's\", 'her', 'hers', 'herself', 'it', \"it's\", 'its', 'itself', 'they', 'them', 'their', 'theirs', 'themselves', 'what', 'which', 'who', 'whom', 'this', 'that', \"that'll\", 'these', 'those', 'am', 'is', 'are', 'was', 'were', 'be', 'been', 'being', 'have', 'has', 'had', 'having', 'do', 'does', 'did', 'doing', 'a', 'an', 'the', 'and', 'but', 'if', 'or', 'because', 'as', 'until', 'while', 'of', 'at', 'by', 'for', 'with', 'about', 'against', 'between', 'into', 'through', 'during', 'before', 'after', 'above', 'below', 'to', 'from', 'up', 'down', 'in', 'out', 'on', 'off', 'over', 'under', 'again', 'further', 'then', 'once', 'here', 'there', 'when', 'where', 'why', 'how', 'all', 'any', 'both', 'each', 'few', 'more', 'most', 'other', 'some', 'such', 'no', 'nor', 'not', 'only', 'own', 'same', 'so', 'than', 'too', 'very', 's', 't', 'can', 'will', 'just', 'don', \"don't\", 'should', \"should've\", 'now', 'd', 'll', 'm', 'o', 're', 've', 'y', 'ain', 'aren', \"aren't\", 'couldn', \"couldn't\", 'didn', \"didn't\", 'doesn', \"doesn't\", 'hadn', \"hadn't\", 'hasn', \"hasn't\", 'haven', \"haven't\", 'isn', \"isn't\", 'ma', 'mightn', \"mightn't\", 'mustn', \"mustn't\", 'needn', \"needn't\", 'shan', \"shan't\", 'shouldn', \"shouldn't\", 'wasn', \"wasn't\", 'weren', \"weren't\", 'won', \"won't\", 'wouldn', \"wouldn't\"]\n"
     ]
    }
   ],
   "source": [
    "from nltk.corpus import stopwords\n",
    "\n",
    "stop_words = stopwords.words('english')\n",
    "print(stop_words)"
   ]
  }
 ],
 "metadata": {
  "kernelspec": {
   "display_name": "Python 3",
   "language": "python",
   "name": "python3"
  },
  "language_info": {
   "codemirror_mode": {
    "name": "ipython",
    "version": 3
   },
   "file_extension": ".py",
   "mimetype": "text/x-python",
   "name": "python",
   "nbconvert_exporter": "python",
   "pygments_lexer": "ipython3",
   "version": "3.10.7"
  }
 },
 "nbformat": 4,
 "nbformat_minor": 2
}
